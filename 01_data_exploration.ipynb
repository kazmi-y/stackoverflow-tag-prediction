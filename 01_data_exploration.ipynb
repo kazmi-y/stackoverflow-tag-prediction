import pandas as pd
import numpy as np
import matplotlib.pyplot as plt

# Load data
questions = pd.read_csv('data/Questions_short.csv')
tags = pd.read_csv('data/Tags_short.csv')

# Analyze tag distribution
tag_counts = tags['Tag'].value_counts()
top_10_tags = tag_counts.head(10).index.tolist()
print("Top 10 tags:", top_10_tags)

# Visualize distribution
tag_counts.head(10).plot(kind='bar')
plt.title('Top 10 Most Frequent Tags')
plt.show()
