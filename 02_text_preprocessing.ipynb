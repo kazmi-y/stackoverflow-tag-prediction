from bs4 import BeautifulSoup
import re
import nltk
nltk.download('punkt')
nltk.download('stopwords')

def clean_text(text):
    # Remove HTML tags
    text = BeautifulSoup(text, 'html.parser').get_text()
    # Lowercase and remove special chars
    text = re.sub(r'[^a-zA-Z\s]', ' ', text.lower())
    # Remove extra whitespace
    return ' '.join(text.split())

# Apply cleaning
questions['combined_text'] = (
    questions['Title'].apply(clean_text) + ' ' + 
    questions['Body'].apply(clean_text)
)
