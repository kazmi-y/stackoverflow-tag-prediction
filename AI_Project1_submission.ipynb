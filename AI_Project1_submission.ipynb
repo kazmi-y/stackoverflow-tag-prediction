{
 "cells": [
  {
   "cell_type": "code",
   "execution_count": 1,
   "metadata": {},
   "outputs": [
    {
     "name": "stderr",
     "output_type": "stream",
     "text": [
      "C:\\Users\\Yasi Kasmi\\anaconda3\\envs\\tf-gpu\\lib\\site-packages\\requests\\__init__.py:86: RequestsDependencyWarning: Unable to find acceptable character detection dependency (chardet or charset_normalizer).\n",
      "  warnings.warn(\n"
     ]
    },
    {
     "name": "stdout",
     "output_type": "stream",
     "text": [
      "✅ GPU detected by TensorFlow:\n",
      "  - PhysicalDevice(name='/physical_device:GPU:0', device_type='GPU')\n"
     ]
    }
   ],
   "source": [
    "import tensorflow as tf\n",
    "\n",
    "gpus = tf.config.list_physical_devices('GPU')\n",
    "if gpus:\n",
    "    print(\"✅ GPU detected by TensorFlow:\")\n",
    "    for gpu in gpus:\n",
    "        print(\"  -\", gpu)\n",
    "else:\n",
    "    print(\"❌ No GPU detected. TensorFlow will use CPU.\")\n"
   ]
  },
  {
   "cell_type": "code",
   "execution_count": 2,
   "metadata": {
    "colab": {
     "base_uri": "https://localhost:8080/"
    },
    "id": "FBl-lQSUf2nf",
    "outputId": "6cddb8b2-693c-4350-9047-65287aba6cfe"
   },
   "outputs": [],
   "source": [
    "# EDA Script for Stack Overflow Tag Prediction\n",
    "#%load_ext cudf.pandas\n",
    "import pandas as pd\n",
    "import numpy as np\n",
    "import matplotlib.pyplot as plt\n",
    "import seaborn as sns\n"
   ]
  },
  {
   "cell_type": "code",
   "execution_count": 4,
   "metadata": {
    "id": "8hDKKvZiipOn"
   },
   "outputs": [],
   "source": [
    "# Load the CSV files\n",
    "questions = pd.read_csv('F:\\Firefox downloader\\Projects\\Project1\\stacksample\\Questions.csv', encoding= 'latin-1')\n",
    "tags = pd.read_csv('F:\\Firefox downloader\\Projects\\Project1\\stacksample\\Tags.csv', encoding= 'latin-1')"
   ]
  },
  {
   "cell_type": "code",
   "execution_count": 5,
   "metadata": {
    "colab": {
     "base_uri": "https://localhost:8080/",
     "height": 345
    },
    "id": "CMA-bxvKi-2s",
    "outputId": "cddcaafb-50e2-49f3-d85b-f62c204af8f2"
   },
   "outputs": [
    {
     "name": "stdout",
     "output_type": "stream",
     "text": [
      "Questions Data Sample:\n"
     ]
    },
    {
     "data": {
      "text/html": [
       "<div>\n",
       "<style scoped>\n",
       "    .dataframe tbody tr th:only-of-type {\n",
       "        vertical-align: middle;\n",
       "    }\n",
       "\n",
       "    .dataframe tbody tr th {\n",
       "        vertical-align: top;\n",
       "    }\n",
       "\n",
       "    .dataframe thead th {\n",
       "        text-align: right;\n",
       "    }\n",
       "</style>\n",
       "<table border=\"1\" class=\"dataframe\">\n",
       "  <thead>\n",
       "    <tr style=\"text-align: right;\">\n",
       "      <th></th>\n",
       "      <th>Id</th>\n",
       "      <th>OwnerUserId</th>\n",
       "      <th>CreationDate</th>\n",
       "      <th>ClosedDate</th>\n",
       "      <th>Score</th>\n",
       "      <th>Title</th>\n",
       "      <th>Body</th>\n",
       "    </tr>\n",
       "  </thead>\n",
       "  <tbody>\n",
       "    <tr>\n",
       "      <th>0</th>\n",
       "      <td>80</td>\n",
       "      <td>26.0</td>\n",
       "      <td>2008-08-01T13:57:07Z</td>\n",
       "      <td>NaN</td>\n",
       "      <td>26</td>\n",
       "      <td>SQLStatement.execute() - multiple queries in o...</td>\n",
       "      <td>&lt;p&gt;I've written a database generation script i...</td>\n",
       "    </tr>\n",
       "    <tr>\n",
       "      <th>1</th>\n",
       "      <td>90</td>\n",
       "      <td>58.0</td>\n",
       "      <td>2008-08-01T14:41:24Z</td>\n",
       "      <td>2012-12-26T03:45:49Z</td>\n",
       "      <td>144</td>\n",
       "      <td>Good branching and merging tutorials for Torto...</td>\n",
       "      <td>&lt;p&gt;Are there any really good tutorials explain...</td>\n",
       "    </tr>\n",
       "    <tr>\n",
       "      <th>2</th>\n",
       "      <td>120</td>\n",
       "      <td>83.0</td>\n",
       "      <td>2008-08-01T15:50:08Z</td>\n",
       "      <td>NaN</td>\n",
       "      <td>21</td>\n",
       "      <td>ASP.NET Site Maps</td>\n",
       "      <td>&lt;p&gt;Has anyone got experience creating &lt;strong&gt;...</td>\n",
       "    </tr>\n",
       "    <tr>\n",
       "      <th>3</th>\n",
       "      <td>180</td>\n",
       "      <td>2089740.0</td>\n",
       "      <td>2008-08-01T18:42:19Z</td>\n",
       "      <td>NaN</td>\n",
       "      <td>53</td>\n",
       "      <td>Function for creating color wheels</td>\n",
       "      <td>&lt;p&gt;This is something I've pseudo-solved many t...</td>\n",
       "    </tr>\n",
       "    <tr>\n",
       "      <th>4</th>\n",
       "      <td>260</td>\n",
       "      <td>91.0</td>\n",
       "      <td>2008-08-01T23:22:08Z</td>\n",
       "      <td>NaN</td>\n",
       "      <td>49</td>\n",
       "      <td>Adding scripting functionality to .NET applica...</td>\n",
       "      <td>&lt;p&gt;I have a little game written in C#. It uses...</td>\n",
       "    </tr>\n",
       "  </tbody>\n",
       "</table>\n",
       "</div>"
      ],
      "text/plain": [
       "    Id  OwnerUserId          CreationDate            ClosedDate  Score  \\\n",
       "0   80         26.0  2008-08-01T13:57:07Z                   NaN     26   \n",
       "1   90         58.0  2008-08-01T14:41:24Z  2012-12-26T03:45:49Z    144   \n",
       "2  120         83.0  2008-08-01T15:50:08Z                   NaN     21   \n",
       "3  180    2089740.0  2008-08-01T18:42:19Z                   NaN     53   \n",
       "4  260         91.0  2008-08-01T23:22:08Z                   NaN     49   \n",
       "\n",
       "                                               Title  \\\n",
       "0  SQLStatement.execute() - multiple queries in o...   \n",
       "1  Good branching and merging tutorials for Torto...   \n",
       "2                                  ASP.NET Site Maps   \n",
       "3                 Function for creating color wheels   \n",
       "4  Adding scripting functionality to .NET applica...   \n",
       "\n",
       "                                                Body  \n",
       "0  <p>I've written a database generation script i...  \n",
       "1  <p>Are there any really good tutorials explain...  \n",
       "2  <p>Has anyone got experience creating <strong>...  \n",
       "3  <p>This is something I've pseudo-solved many t...  \n",
       "4  <p>I have a little game written in C#. It uses...  "
      ]
     },
     "metadata": {},
     "output_type": "display_data"
    }
   ],
   "source": [
    "# Display first few rows of each DataFrame\n",
    "print(\"Questions Data Sample:\")\n",
    "display(questions.head())\n"
   ]
  },
  {
   "cell_type": "code",
   "execution_count": 6,
   "metadata": {
    "colab": {
     "base_uri": "https://localhost:8080/",
     "height": 241
    },
    "id": "IkJ-dOE_o5Kr",
    "outputId": "55ce1648-4507-432b-e3f6-f94a204e447b"
   },
   "outputs": [
    {
     "name": "stdout",
     "output_type": "stream",
     "text": [
      "\n",
      "Tags Data Sample:\n"
     ]
    },
    {
     "data": {
      "text/html": [
       "<div>\n",
       "<style scoped>\n",
       "    .dataframe tbody tr th:only-of-type {\n",
       "        vertical-align: middle;\n",
       "    }\n",
       "\n",
       "    .dataframe tbody tr th {\n",
       "        vertical-align: top;\n",
       "    }\n",
       "\n",
       "    .dataframe thead th {\n",
       "        text-align: right;\n",
       "    }\n",
       "</style>\n",
       "<table border=\"1\" class=\"dataframe\">\n",
       "  <thead>\n",
       "    <tr style=\"text-align: right;\">\n",
       "      <th></th>\n",
       "      <th>Id</th>\n",
       "      <th>Tag</th>\n",
       "    </tr>\n",
       "  </thead>\n",
       "  <tbody>\n",
       "    <tr>\n",
       "      <th>0</th>\n",
       "      <td>80</td>\n",
       "      <td>flex</td>\n",
       "    </tr>\n",
       "    <tr>\n",
       "      <th>1</th>\n",
       "      <td>80</td>\n",
       "      <td>actionscript-3</td>\n",
       "    </tr>\n",
       "    <tr>\n",
       "      <th>2</th>\n",
       "      <td>80</td>\n",
       "      <td>air</td>\n",
       "    </tr>\n",
       "    <tr>\n",
       "      <th>3</th>\n",
       "      <td>90</td>\n",
       "      <td>svn</td>\n",
       "    </tr>\n",
       "    <tr>\n",
       "      <th>4</th>\n",
       "      <td>90</td>\n",
       "      <td>tortoisesvn</td>\n",
       "    </tr>\n",
       "  </tbody>\n",
       "</table>\n",
       "</div>"
      ],
      "text/plain": [
       "   Id             Tag\n",
       "0  80            flex\n",
       "1  80  actionscript-3\n",
       "2  80             air\n",
       "3  90             svn\n",
       "4  90     tortoisesvn"
      ]
     },
     "metadata": {},
     "output_type": "display_data"
    }
   ],
   "source": [
    "print(\"\\nTags Data Sample:\")\n",
    "display(tags.head())"
   ]
  },
  {
   "cell_type": "code",
   "execution_count": 7,
   "metadata": {
    "colab": {
     "base_uri": "https://localhost:8080/"
    },
    "id": "9WeXoNWjpDx8",
    "outputId": "038ec92c-5ed3-4c1a-88a5-68d8541ea00e"
   },
   "outputs": [
    {
     "name": "stdout",
     "output_type": "stream",
     "text": [
      "\n",
      "Missing Values in Questions:\n",
      "Id                    0\n",
      "OwnerUserId       14454\n",
      "CreationDate          0\n",
      "ClosedDate      1208257\n",
      "Score                 0\n",
      "Title                 0\n",
      "Body                  0\n",
      "dtype: int64\n"
     ]
    }
   ],
   "source": [
    "# Check for missing values\n",
    "print(\"\\nMissing Values in Questions:\")\n",
    "print(questions.isnull().sum())"
   ]
  },
  {
   "cell_type": "code",
   "execution_count": 8,
   "metadata": {
    "colab": {
     "base_uri": "https://localhost:8080/"
    },
    "id": "75UuKCRTpJq4",
    "outputId": "ac0b5860-9efa-40f2-a054-572dfb4b347e"
   },
   "outputs": [
    {
     "name": "stdout",
     "output_type": "stream",
     "text": [
      "\n",
      "Missing Values in Tags:\n",
      "Id        0\n",
      "Tag    1113\n",
      "dtype: int64\n"
     ]
    }
   ],
   "source": [
    "print(\"\\nMissing Values in Tags:\")\n",
    "print(tags.isnull().sum())"
   ]
  },
  {
   "cell_type": "code",
   "execution_count": 9,
   "metadata": {
    "colab": {
     "base_uri": "https://localhost:8080/"
    },
    "id": "Be0WSUZIpQeQ",
    "outputId": "f2dd8c2c-4d5f-42d0-cb21-ecfae827169e"
   },
   "outputs": [
    {
     "name": "stdout",
     "output_type": "stream",
     "text": [
      "\n",
      "Questions Info:\n",
      "<class 'pandas.core.frame.DataFrame'>\n",
      "RangeIndex: 1264216 entries, 0 to 1264215\n",
      "Data columns (total 7 columns):\n",
      " #   Column        Non-Null Count    Dtype  \n",
      "---  ------        --------------    -----  \n",
      " 0   Id            1264216 non-null  int64  \n",
      " 1   OwnerUserId   1249762 non-null  float64\n",
      " 2   CreationDate  1264216 non-null  object \n",
      " 3   ClosedDate    55959 non-null    object \n",
      " 4   Score         1264216 non-null  int64  \n",
      " 5   Title         1264216 non-null  object \n",
      " 6   Body          1264216 non-null  object \n",
      "dtypes: float64(1), int64(2), object(4)\n",
      "memory usage: 67.5+ MB\n",
      "\n",
      "Tags Info:\n",
      "<class 'pandas.core.frame.DataFrame'>\n",
      "RangeIndex: 3750994 entries, 0 to 3750993\n",
      "Data columns (total 2 columns):\n",
      " #   Column  Dtype \n",
      "---  ------  ----- \n",
      " 0   Id      int64 \n",
      " 1   Tag     object\n",
      "dtypes: int64(1), object(1)\n",
      "memory usage: 57.2+ MB\n"
     ]
    }
   ],
   "source": [
    "# Basic info\n",
    "print(\"\\nQuestions Info:\")\n",
    "questions.info()\n",
    "print(\"\\nTags Info:\")\n",
    "tags.info()"
   ]
  },
  {
   "cell_type": "code",
   "execution_count": 10,
   "metadata": {
    "colab": {
     "base_uri": "https://localhost:8080/"
    },
    "id": "t-kn0WErpXdG",
    "outputId": "0f40edd8-e12b-43a5-cfc4-a2128673cb81"
   },
   "outputs": [
    {
     "name": "stdout",
     "output_type": "stream",
     "text": [
      "\n",
      "Number of unique questions: 1264216\n",
      "Number of unique tags: 37034\n"
     ]
    }
   ],
   "source": [
    "# Number of unique questions and tags\n",
    "num_questions = questions['Id'].nunique()\n",
    "num_tags = tags['Tag'].nunique()\n",
    "print(f\"\\nNumber of unique questions: {num_questions}\")\n",
    "print(f\"Number of unique tags: {num_tags}\")"
   ]
  },
  {
   "cell_type": "code",
   "execution_count": 11,
   "metadata": {
    "colab": {
     "base_uri": "https://localhost:8080/"
    },
    "id": "O49y3oa4qGKH",
    "outputId": "486158c6-e2dd-4b17-e5b1-9fa7fc5066d8"
   },
   "outputs": [
    {
     "name": "stdout",
     "output_type": "stream",
     "text": [
      "\n",
      "Top 10 Most Frequent Tags:\n",
      "Tag\n",
      "javascript    124155\n",
      "java          115212\n",
      "c#            101186\n",
      "php            98808\n",
      "android        90659\n",
      "jquery         78542\n",
      "python         64601\n",
      "html           58976\n",
      "c++            47591\n",
      "ios            47009\n",
      "Name: count, dtype: int64\n"
     ]
    }
   ],
   "source": [
    "# Top 10 most frequent tags\n",
    "top_tags = tags['Tag'].value_counts().head(10)\n",
    "print(\"\\nTop 10 Most Frequent Tags:\")\n",
    "print(top_tags)"
   ]
  },
  {
   "cell_type": "code",
   "execution_count": 12,
   "metadata": {
    "colab": {
     "base_uri": "https://localhost:8080/"
    },
    "id": "knqBFUO2qI_M",
    "outputId": "3be217b9-13c2-4632-aafd-0ae55ff915d0"
   },
   "outputs": [
    {
     "name": "stderr",
     "output_type": "stream",
     "text": [
      "C:\\Users\\Yasi Kasmi\\AppData\\Local\\Temp\\ipykernel_1732\\362511293.py:3: FutureWarning: \n",
      "\n",
      "Passing `palette` without assigning `hue` is deprecated and will be removed in v0.14.0. Assign the `y` variable to `hue` and set `legend=False` for the same effect.\n",
      "\n",
      "  sns.barplot(x=top_tags.values, y=top_tags.index, palette='viridis')\n"
     ]
    },
    {
     "data": {
      "image/png": "[encoded data removed]",
      "text/plain": [
       "<Figure size 1000x500 with 1 Axes>"
      ]
     },
     "metadata": {},
     "output_type": "display_data"
    }
   ],
   "source": [
    "# Visualize top 10 tags\n",
    "plt.figure(figsize=(10,5))\n",
    "sns.barplot(x=top_tags.values, y=top_tags.index, palette='viridis')\n",
    "plt.title('Top 10 Most Frequent Tags')\n",
    "plt.xlabel('Count')\n",
    "plt.ylabel('Tag')\n",
    "plt.show()"
   ]
  },
  {
   "cell_type": "code",
   "execution_count": 13,
   "metadata": {
    "colab": {
     "base_uri": "https://localhost:8080/"
    },
    "id": "ZPKnsKRXqNds",
    "outputId": "e59042f4-0722-49e1-8ce3-079c2950ab63"
   },
   "outputs": [
    {
     "name": "stdout",
     "output_type": "stream",
     "text": [
      "\n",
      "Tags per Question (Summary):\n",
      "count    1.264216e+06\n",
      "mean     2.967052e+00\n",
      "std      1.206987e+00\n",
      "min      1.000000e+00\n",
      "25%      2.000000e+00\n",
      "50%      3.000000e+00\n",
      "75%      4.000000e+00\n",
      "max      5.000000e+00\n",
      "dtype: float64\n"
     ]
    }
   ],
   "source": [
    "# Distribution of number of tags per question\n",
    "tags_per_question = tags.groupby('Id').size()\n",
    "print(\"\\nTags per Question (Summary):\")\n",
    "print(tags_per_question.describe())"
   ]
  },
  {
   "cell_type": "code",
   "execution_count": 14,
   "metadata": {
    "colab": {
     "base_uri": "https://localhost:8080/"
    },
    "id": "wKpWMMHZqSgc",
    "outputId": "84e19756-6b4a-46ac-9f77-5b355d5e3127"
   },
   "outputs": [
    {
     "data": {
      "image/png": "[encoded data removed]",
      "text/plain": [
       "<Figure size 800x400 with 1 Axes>"
      ]
     },
     "metadata": {},
     "output_type": "display_data"
    }
   ],
   "source": [
    "plt.figure(figsize=(8,4))\n",
    "sns.histplot(tags_per_question, bins=range(1, tags_per_question.max()+2), kde=False)\n",
    "plt.title('Distribution of Number of Tags per Question')\n",
    "plt.xlabel('Number of Tags')\n",
    "plt.ylabel('Number of Questions')\n",
    "plt.show()"
   ]
  },
  {
   "cell_type": "code",
   "execution_count": 15,
   "metadata": {
    "id": "fkKroiWQqX9u"
   },
   "outputs": [],
   "source": [
    "# Merge tags with questions for further analysis\n",
    "questions_tags = pd.merge(tags, questions, on='Id', how='left')"
   ]
  },
  {
   "cell_type": "code",
   "execution_count": 16,
   "metadata": {
    "colab": {
     "base_uri": "https://localhost:8080/"
    },
    "id": "JQ41vzD0qbNM",
    "outputId": "05ffcb02-b1d8-4a83-afad-1ff2fa1e5ddc"
   },
   "outputs": [
    {
     "name": "stdout",
     "output_type": "stream",
     "text": [
      "\n",
      "Title Length Statistics:\n",
      "count    1.264216e+06\n",
      "mean     5.173002e+01\n",
      "std      1.980663e+01\n",
      "min      9.000000e+00\n",
      "25%      3.700000e+01\n",
      "50%      4.900000e+01\n",
      "75%      6.300000e+01\n",
      "max      1.890000e+02\n",
      "Name: Title_length, dtype: float64\n",
      "\n",
      "Body Length Statistics:\n",
      "count    1.264216e+06\n",
      "mean     1.410486e+03\n",
      "std      1.869814e+03\n",
      "min      1.800000e+01\n",
      "25%      5.140000e+02\n",
      "50%      8.950000e+02\n",
      "75%      1.600000e+03\n",
      "max      4.648900e+04\n",
      "Name: Body_length, dtype: float64\n"
     ]
    }
   ],
   "source": [
    "# Analyze question text lengths (Title and Body)\n",
    "questions['Title_length'] = questions['Title'].astype(str).apply(len)\n",
    "questions['Body_length'] = questions['Body'].astype(str).apply(len)\n",
    "\n",
    "print(\"\\nTitle Length Statistics:\")\n",
    "print(questions['Title_length'].describe())\n",
    "\n",
    "print(\"\\nBody Length Statistics:\")\n",
    "print(questions['Body_length'].describe())"
   ]
  },
  {
   "cell_type": "code",
   "execution_count": 17,
   "metadata": {
    "colab": {
     "base_uri": "https://localhost:8080/"
    },
    "id": "0wYfRsYcqerV",
    "outputId": "db1a44b9-38ac-4cef-f8b4-3ee03fa6fec9"
   },
   "outputs": [
    {
     "data": {
      "image/png": "[encoded data removed]",
      "text/plain": [
       "<Figure size 1000x400 with 1 Axes>"
      ]
     },
     "metadata": {},
     "output_type": "display_data"
    }
   ],
   "source": [
    "plt.figure(figsize=(10,4))\n",
    "sns.histplot(questions['Title_length'], bins=20, color='skyblue', label='Title')\n",
    "sns.histplot(questions['Body_length'], bins=20, color='salmon', label='Body', alpha=0.7)\n",
    "plt.title('Distribution of Title and Body Lengths')\n",
    "plt.xlabel('Length (characters)')\n",
    "plt.legend()\n",
    "plt.show()"
   ]
  },
  {
   "cell_type": "code",
   "execution_count": 18,
   "metadata": {
    "colab": {
     "base_uri": "https://localhost:8080/"
    },
    "id": "hjTGfDqXqpSj",
    "outputId": "dda64a13-e2a1-474c-d420-f943fa6b09fa"
   },
   "outputs": [
    {
     "name": "stdout",
     "output_type": "stream",
     "text": [
      "\n",
      "Number of duplicate question Ids: 0\n",
      "Number of duplicate tag rows: 1\n"
     ]
    }
   ],
   "source": [
    "# Check for duplicate questions or tags\n",
    "duplicates_questions = questions.duplicated(subset=['Id']).sum()\n",
    "duplicates_tags = tags.duplicated().sum()\n",
    "print(f\"\\nNumber of duplicate question Ids: {duplicates_questions}\")\n",
    "print(f\"Number of duplicate tag rows: {duplicates_tags}\")"
   ]
  },
  {
   "cell_type": "code",
   "execution_count": 19,
   "metadata": {
    "colab": {
     "base_uri": "https://localhost:8080/"
    },
    "id": "Vbxy728Bqxuf",
    "outputId": "0cb0c30e-233c-4950-a863-4dd0d4ea04f8"
   },
   "outputs": [
    {
     "name": "stdout",
     "output_type": "stream",
     "text": [
      "\n",
      "Number of empty titles: 0\n",
      "Number of empty bodies: 0\n"
     ]
    }
   ],
   "source": [
    "# Check for empty titles or bodies\n",
    "empty_titles = (questions['Title'].astype(str).str.strip() == '').sum()\n",
    "empty_bodies = (questions['Body'].astype(str).str.strip() == '').sum()\n",
    "print(f\"\\nNumber of empty titles: {empty_titles}\")\n",
    "print(f\"Number of empty bodies: {empty_bodies}\")"
   ]
  },
  {
   "cell_type": "code",
   "execution_count": 20,
   "metadata": {
    "colab": {
     "base_uri": "https://localhost:8080/"
    },
    "id": "cuYCmIYmq0Ft",
    "outputId": "f35bcb44-b656-4c45-eb73-b9e98cf3f4ca"
   },
   "outputs": [
    {
     "name": "stdout",
     "output_type": "stream",
     "text": [
      "\n",
      "Example Question ID: 80\n",
      "Title: SQLStatement.execute() - multiple queries in one statement\n",
      "Tags: ['flex', 'actionscript-3', 'air']\n"
     ]
    }
   ],
   "source": [
    "# Example: Show a question with its tags\n",
    "example_id = tags['Id'].iloc[0]\n",
    "example_question = questions[questions['Id'] == example_id]\n",
    "example_tags = tags[tags['Id'] == example_id]['Tag'].tolist()\n",
    "print(f\"\\nExample Question ID: {example_id}\")\n",
    "print(\"Title:\", example_question['Title'].values[0])\n",
    "print(\"Tags:\", example_tags)"
   ]
  },
  {
   "cell_type": "code",
   "execution_count": 21,
   "metadata": {
    "id": "VF8cgno5q431"
   },
   "outputs": [
    {
     "ename": "ModuleNotFoundError",
     "evalue": "No module named 'nltk'",
     "output_type": "error",
     "traceback": [
      "\u001b[1;31m---------------------------------------------------------------------------\u001b[0m",
      "\u001b[1;31mModuleNotFoundError\u001b[0m                       Traceback (most recent call last)",
      "Cell \u001b[1;32mIn[21], line 5\u001b[0m\n\u001b[0;32m      3\u001b[0m \u001b[38;5;28;01mimport\u001b[39;00m\u001b[38;5;250m \u001b[39m\u001b[38;5;21;01mre\u001b[39;00m\n\u001b[0;32m      4\u001b[0m \u001b[38;5;28;01mfrom\u001b[39;00m\u001b[38;5;250m \u001b[39m\u001b[38;5;21;01mbs4\u001b[39;00m\u001b[38;5;250m \u001b[39m\u001b[38;5;28;01mimport\u001b[39;00m BeautifulSoup\n\u001b[1;32m----> 5\u001b[0m \u001b[38;5;28;01mimport\u001b[39;00m\u001b[38;5;250m \u001b[39m\u001b[38;5;21;01mnltk\u001b[39;00m\n\u001b[0;32m      6\u001b[0m \u001b[38;5;28;01mfrom\u001b[39;00m\u001b[38;5;250m \u001b[39m\u001b[38;5;21;01mnltk\u001b[39;00m\u001b[38;5;21;01m.\u001b[39;00m\u001b[38;5;21;01mcorpus\u001b[39;00m\u001b[38;5;250m \u001b[39m\u001b[38;5;28;01mimport\u001b[39;00m stopwords\n\u001b[0;32m      7\u001b[0m \u001b[38;5;28;01mfrom\u001b[39;00m\u001b[38;5;250m \u001b[39m\u001b[38;5;21;01mnltk\u001b[39;00m\u001b[38;5;21;01m.\u001b[39;00m\u001b[38;5;21;01mstem\u001b[39;00m\u001b[38;5;250m \u001b[39m\u001b[38;5;28;01mimport\u001b[39;00m PorterStemmer\n",
      "\u001b[1;31mModuleNotFoundError\u001b[0m: No module named 'nltk'"
     ]
    }
   ],
   "source": [
    "# Text Preprocessing and Cleaning\n",
    "\n",
    "import re\n",
    "from bs4 import BeautifulSoup\n",
    "import nltk\n",
    "from nltk.corpus import stopwords\n",
    "from nltk.stem import PorterStemmer"
   ]
  },
  {
   "cell_type": "code",
   "execution_count": 22,
   "metadata": {
    "id": "xoCQVwLIrWmK"
   },
   "outputs": [],
   "source": [
    "# Load in chunks to save memory\n",
    "tags_iter = pd.read_csv('F:\\Firefox downloader\\Projects\\Project1\\stacksample\\Tags.csv', usecols=['Id', 'Tag'], chunksize=10**6)\n",
    "tag_counts = {}"
   ]
  },
  {
   "cell_type": "code",
   "execution_count": 23,
   "metadata": {
    "id": "K5b3QpZerav0"
   },
   "outputs": [],
   "source": [
    "# Count tag frequencies\n",
    "for chunk in tags_iter:\n",
    "    for tag in chunk['Tag']:\n",
    "        tag_counts[tag] = tag_counts.get(tag, 0) + 1"
   ]
  },
  {
   "cell_type": "code",
   "execution_count": 24,
   "metadata": {
    "colab": {
     "base_uri": "https://localhost:8080/"
    },
    "id": "Mf-mgNENrdT9",
    "outputId": "9b363d94-903c-4ac9-98b5-c199f2de3d02"
   },
   "outputs": [
    {
     "name": "stdout",
     "output_type": "stream",
     "text": [
      "['javascript', 'java', 'c#', 'php', 'android', 'jquery', 'python', 'html', 'c++', 'ios']\n"
     ]
    }
   ],
   "source": [
    "# Get top 10 tags\n",
    "top_tags = pd.Series(tag_counts).sort_values(ascending=False).head(10).index.tolist()\n",
    "print(top_tags)"
   ]
  },
  {
   "cell_type": "code",
   "execution_count": 28,
   "metadata": {
    "id": "PuQ1OZczB2H_"
   },
   "outputs": [],
   "source": [
    "# Reload tags, filter for top tags\n",
    "tags_iter = pd.read_csv('F:\\Firefox downloader\\Projects\\Project1\\stacksample\\Tags.csv', usecols=['Id', 'Tag'], chunksize=10**6)\n",
    "filtered_tags = []\n",
    "for chunk in tags_iter:\n",
    "    filtered_chunk = chunk[chunk['Tag'].isin(top_tags)]\n",
    "    filtered_tags.append(filtered_chunk)\n",
    "filtered_tags = pd.concat(filtered_tags)"
   ]
  },
  {
   "cell_type": "code",
   "execution_count": 29,
   "metadata": {
    "id": "Yhob-jguB26L"
   },
   "outputs": [],
   "source": [
    "# Get unique question IDs with top tags\n",
    "question_ids = filtered_tags['Id'].unique()"
   ]
  },
  {
   "cell_type": "code",
   "execution_count": 30,
   "metadata": {
    "id": "WjkWwCwSCfcp"
   },
   "outputs": [],
   "source": [
    "# Now load only relevant questions\n",
    "questions_iter = pd.read_csv('F:\\Firefox downloader\\Projects\\Project1\\stacksample\\Questions.csv', usecols=['Id', 'Title', 'Body'], chunksize=10**5, encoding='latin-1')\n",
    "filtered_questions = []\n",
    "for chunk in questions_iter:\n",
    "    filtered_chunk = chunk[chunk['Id'].isin(question_ids)]\n",
    "    filtered_questions.append(filtered_chunk)\n",
    "filtered_questions = pd.concat(filtered_questions)"
   ]
  },
  {
   "cell_type": "code",
   "execution_count": 31,
   "metadata": {
    "id": "840o3VofCknx"
   },
   "outputs": [],
   "source": [
    "def strip_html(text):\n",
    "    # Use a fast parser for large scale\n",
    "    return BeautifulSoup(text, \"lxml\").get_text(separator=\" \") if pd.notnull(text) else \"\"\n",
    "\n",
    "# Clean Title and Body\n",
    "filtered_questions['Title'] = filtered_questions['Title'].astype(str)\n",
    "filtered_questions['Body'] = filtered_questions['Body'].astype(str)\n",
    "\n",
    "# Remove HTML from Body (vectorized)\n",
    "filtered_questions['Body_no_html'] = filtered_questions['Body'].map(strip_html)\n",
    "\n",
    "# Lowercase and remove non-alphabetic chars (vectorized)\n",
    "filtered_questions['Cleaned_Title'] = (\n",
    "    filtered_questions['Title']\n",
    "    .str.lower()\n",
    "    .str.replace(r'[^a-z\\s]', ' ', regex=True)\n",
    "    .str.replace(r'\\s+', ' ', regex=True)\n",
    "    .str.strip()\n",
    ")\n",
    "\n",
    "filtered_questions['Cleaned_Body'] = (\n",
    "    filtered_questions['Body_no_html']\n",
    "    .str.lower()\n",
    "    .str.replace(r'[^a-z\\s]', ' ', regex=True)\n",
    "    .str.replace(r'\\s+', ' ', regex=True)\n",
    "    .str.strip()\n",
    ")\n",
    "\n",
    "# Combine for modeling\n",
    "filtered_questions['Combined_Text'] = (\n",
    "    filtered_questions['Cleaned_Title'] + \" \" + filtered_questions['Cleaned_Body']\n",
    ")"
   ]
  },
  {
   "cell_type": "code",
   "execution_count": 32,
   "metadata": {
    "id": "hAkwr0eaEacV"
   },
   "outputs": [],
   "source": [
    "filtered_questions.to_csv('filtered_questions_cleaned.csv', index=False)\n",
    "filtered_tags.to_csv('filtered_tags_top10.csv', index=False)\n"
   ]
  },
  {
   "cell_type": "code",
   "execution_count": 33,
   "metadata": {
    "id": "8g5BYQ605KSC"
   },
   "outputs": [
    {
     "data": {
      "text/html": [
       "<div>\n",
       "<style scoped>\n",
       "    .dataframe tbody tr th:only-of-type {\n",
       "        vertical-align: middle;\n",
       "    }\n",
       "\n",
       "    .dataframe tbody tr th {\n",
       "        vertical-align: top;\n",
       "    }\n",
       "\n",
       "    .dataframe thead th {\n",
       "        text-align: right;\n",
       "    }\n",
       "</style>\n",
       "<table border=\"1\" class=\"dataframe\">\n",
       "  <thead>\n",
       "    <tr style=\"text-align: right;\">\n",
       "      <th></th>\n",
       "      <th>Id</th>\n",
       "      <th>Title</th>\n",
       "      <th>Body</th>\n",
       "      <th>Body_no_html</th>\n",
       "      <th>Cleaned_Title</th>\n",
       "      <th>Cleaned_Body</th>\n",
       "      <th>Combined_Text</th>\n",
       "    </tr>\n",
       "  </thead>\n",
       "  <tbody>\n",
       "    <tr>\n",
       "      <th>4</th>\n",
       "      <td>260</td>\n",
       "      <td>Adding scripting functionality to .NET applica...</td>\n",
       "      <td>&lt;p&gt;I have a little game written in C#. It uses...</td>\n",
       "      <td>I have a little game written in C#. It uses a ...</td>\n",
       "      <td>adding scripting functionality to net applicat...</td>\n",
       "      <td>i have a little game written in c it uses a da...</td>\n",
       "      <td>adding scripting functionality to net applicat...</td>\n",
       "    </tr>\n",
       "    <tr>\n",
       "      <th>5</th>\n",
       "      <td>330</td>\n",
       "      <td>Should I use nested classes in this case?</td>\n",
       "      <td>&lt;p&gt;I am working on a collection of classes use...</td>\n",
       "      <td>I am working on a collection of classes used f...</td>\n",
       "      <td>should i use nested classes in this case</td>\n",
       "      <td>i am working on a collection of classes used f...</td>\n",
       "      <td>should i use nested classes in this case i am ...</td>\n",
       "    </tr>\n",
       "    <tr>\n",
       "      <th>8</th>\n",
       "      <td>650</td>\n",
       "      <td>Automatically update version number</td>\n",
       "      <td>&lt;p&gt;I would like the version property of my app...</td>\n",
       "      <td>I would like the version property of my applic...</td>\n",
       "      <td>automatically update version number</td>\n",
       "      <td>i would like the version property of my applic...</td>\n",
       "      <td>automatically update version number i would li...</td>\n",
       "    </tr>\n",
       "    <tr>\n",
       "      <th>10</th>\n",
       "      <td>930</td>\n",
       "      <td>How do I connect to a database and loop over a...</td>\n",
       "      <td>&lt;p&gt;What's the simplest way to connect and quer...</td>\n",
       "      <td>What's the simplest way to connect and query a...</td>\n",
       "      <td>how do i connect to a database and loop over a...</td>\n",
       "      <td>what s the simplest way to connect and query a...</td>\n",
       "      <td>how do i connect to a database and loop over a...</td>\n",
       "    </tr>\n",
       "    <tr>\n",
       "      <th>11</th>\n",
       "      <td>1010</td>\n",
       "      <td>How to get the value of built, encoded ViewState?</td>\n",
       "      <td>&lt;p&gt;I need to grab the base64-encoded represent...</td>\n",
       "      <td>I need to grab the base64-encoded representati...</td>\n",
       "      <td>how to get the value of built encoded viewstate</td>\n",
       "      <td>i need to grab the base encoded representation...</td>\n",
       "      <td>how to get the value of built encoded viewstat...</td>\n",
       "    </tr>\n",
       "  </tbody>\n",
       "</table>\n",
       "</div>"
      ],
      "text/plain": [
       "      Id                                              Title  \\\n",
       "4    260  Adding scripting functionality to .NET applica...   \n",
       "5    330          Should I use nested classes in this case?   \n",
       "8    650                Automatically update version number   \n",
       "10   930  How do I connect to a database and loop over a...   \n",
       "11  1010  How to get the value of built, encoded ViewState?   \n",
       "\n",
       "                                                 Body  \\\n",
       "4   <p>I have a little game written in C#. It uses...   \n",
       "5   <p>I am working on a collection of classes use...   \n",
       "8   <p>I would like the version property of my app...   \n",
       "10  <p>What's the simplest way to connect and quer...   \n",
       "11  <p>I need to grab the base64-encoded represent...   \n",
       "\n",
       "                                         Body_no_html  \\\n",
       "4   I have a little game written in C#. It uses a ...   \n",
       "5   I am working on a collection of classes used f...   \n",
       "8   I would like the version property of my applic...   \n",
       "10  What's the simplest way to connect and query a...   \n",
       "11  I need to grab the base64-encoded representati...   \n",
       "\n",
       "                                        Cleaned_Title  \\\n",
       "4   adding scripting functionality to net applicat...   \n",
       "5            should i use nested classes in this case   \n",
       "8                 automatically update version number   \n",
       "10  how do i connect to a database and loop over a...   \n",
       "11    how to get the value of built encoded viewstate   \n",
       "\n",
       "                                         Cleaned_Body  \\\n",
       "4   i have a little game written in c it uses a da...   \n",
       "5   i am working on a collection of classes used f...   \n",
       "8   i would like the version property of my applic...   \n",
       "10  what s the simplest way to connect and query a...   \n",
       "11  i need to grab the base encoded representation...   \n",
       "\n",
       "                                        Combined_Text  \n",
       "4   adding scripting functionality to net applicat...  \n",
       "5   should i use nested classes in this case i am ...  \n",
       "8   automatically update version number i would li...  \n",
       "10  how do i connect to a database and loop over a...  \n",
       "11  how to get the value of built encoded viewstat...  "
      ]
     },
     "execution_count": 33,
     "metadata": {},
     "output_type": "execute_result"
    }
   ],
   "source": [
    "filtered_questions.head()"
   ]
  },
  {
   "cell_type": "code",
   "execution_count": 34,
   "metadata": {
    "id": "RUg4lMJE5T6R"
   },
   "outputs": [],
   "source": [
    "filtered_questions_cleaned= pd.read_csv('filtered_questions_cleaned.csv')"
   ]
  },
  {
   "cell_type": "code",
   "execution_count": 35,
   "metadata": {
    "id": "dh_ogGbq_MXx"
   },
   "outputs": [],
   "source": [
    "filtered_tags = pd.read_csv('filtered_tags_top10.csv')"
   ]
  },
  {
   "cell_type": "code",
   "execution_count": 36,
   "metadata": {
    "id": "w6g1w8NyLGsD"
   },
   "outputs": [],
   "source": [
    "from sklearn.preprocessing import MultiLabelBinarizer"
   ]
  },
  {
   "cell_type": "code",
   "execution_count": 37,
   "metadata": {
    "id": "3urE8_DeQhlA"
   },
   "outputs": [],
   "source": [
    "# 1. Group tags per question\n",
    "tags_per_question = (\n",
    "    filtered_tags.groupby('Id')['Tag']\n",
    "    .apply(list)\n",
    "    .reset_index()\n",
    ")"
   ]
  },
  {
   "cell_type": "code",
   "execution_count": 38,
   "metadata": {
    "id": "JtQ6n21LRqYP"
   },
   "outputs": [],
   "source": [
    "# 2. Only keep tags that are in top_tags\n",
    "tags_per_question['Tag'] = tags_per_question['Tag'].apply(\n",
    "    lambda tag_list: [tag for tag in tag_list if tag in top_tags]\n",
    ")"
   ]
  },
  {
   "cell_type": "code",
   "execution_count": 39,
   "metadata": {
    "id": "Ceq2WmU5RrZj"
   },
   "outputs": [],
   "source": [
    "# 3. Remove questions with no tags in top_tags (if any)\n",
    "tags_per_question = tags_per_question[tags_per_question['Tag'].map(len) > 0]"
   ]
  },
  {
   "cell_type": "code",
   "execution_count": 40,
   "metadata": {
    "id": "fm2oe4rgRtW7"
   },
   "outputs": [],
   "source": [
    "# 4. Merge with questions to ensure only relevant questions are kept\n",
    "questions_targets = pd.merge(\n",
    "    filtered_questions_cleaned,\n",
    "    tags_per_question,\n",
    "    on='Id',\n",
    "    how='inner'\n",
    ")"
   ]
  },
  {
   "cell_type": "code",
   "execution_count": 41,
   "metadata": {
    "id": "v5aTMM18Ru2X"
   },
   "outputs": [],
   "source": [
    "# 5. Multi-label binarization\n",
    "mlb = MultiLabelBinarizer(classes=top_tags)\n",
    "tag_matrix = mlb.fit_transform(questions_targets['Tag'])"
   ]
  },
  {
   "cell_type": "code",
   "execution_count": 42,
   "metadata": {
    "id": "HX8T2mIKRxeP"
   },
   "outputs": [],
   "source": [
    "# 6. Create DataFrame for tag matrix\n",
    "tag_df = pd.DataFrame(tag_matrix, columns=mlb.classes_, index=questions_targets.index)"
   ]
  },
  {
   "cell_type": "code",
   "execution_count": 43,
   "metadata": {
    "id": "sjvR86P7Ry5k"
   },
   "outputs": [],
   "source": [
    "# 7. Concatenate with cleaned questions\n",
    "final_df = pd.concat([questions_targets.reset_index(drop=True), tag_df], axis=1)\n"
   ]
  },
  {
   "cell_type": "code",
   "execution_count": 44,
   "metadata": {
    "id": "ap2V9XOzR1Nm"
   },
   "outputs": [],
   "source": [
    "# 8. Drop the original 'Tag' column (optional, as you now have binary columns)\n",
    "final_df = final_df.drop(columns=['Tag'])"
   ]
  },
  {
   "cell_type": "code",
   "execution_count": 45,
   "metadata": {
    "id": "YzhXINSfR2t1"
   },
   "outputs": [
    {
     "name": "stdout",
     "output_type": "stream",
     "text": [
      "     Id                                              Title  \\\n",
      "0   260  Adding scripting functionality to .NET applica...   \n",
      "1   330          Should I use nested classes in this case?   \n",
      "2   650                Automatically update version number   \n",
      "3   930  How do I connect to a database and loop over a...   \n",
      "4  1010  How to get the value of built, encoded ViewState?   \n",
      "\n",
      "                                                Body  \\\n",
      "0  <p>I have a little game written in C#. It uses...   \n",
      "1  <p>I am working on a collection of classes use...   \n",
      "2  <p>I would like the version property of my app...   \n",
      "3  <p>What's the simplest way to connect and quer...   \n",
      "4  <p>I need to grab the base64-encoded represent...   \n",
      "\n",
      "                                        Body_no_html  \\\n",
      "0  I have a little game written in C#. It uses a ...   \n",
      "1  I am working on a collection of classes used f...   \n",
      "2  I would like the version property of my applic...   \n",
      "3  What's the simplest way to connect and query a...   \n",
      "4  I need to grab the base64-encoded representati...   \n",
      "\n",
      "                                       Cleaned_Title  \\\n",
      "0  adding scripting functionality to net applicat...   \n",
      "1           should i use nested classes in this case   \n",
      "2                automatically update version number   \n",
      "3  how do i connect to a database and loop over a...   \n",
      "4    how to get the value of built encoded viewstate   \n",
      "\n",
      "                                        Cleaned_Body  \\\n",
      "0  i have a little game written in c it uses a da...   \n",
      "1  i am working on a collection of classes used f...   \n",
      "2  i would like the version property of my applic...   \n",
      "3  what s the simplest way to connect and query a...   \n",
      "4  i need to grab the base encoded representation...   \n",
      "\n",
      "                                       Combined_Text  javascript  java  c#  \\\n",
      "0  adding scripting functionality to net applicat...           0     0   1   \n",
      "1  should i use nested classes in this case i am ...           0     0   0   \n",
      "2  automatically update version number i would li...           0     0   1   \n",
      "3  how do i connect to a database and loop over a...           0     0   1   \n",
      "4  how to get the value of built encoded viewstat...           0     0   1   \n",
      "\n",
      "   php  android  jquery  python  html  c++  ios  \n",
      "0    0        0       0       0     0    0    0  \n",
      "1    0        0       0       0     0    1    0  \n",
      "2    0        0       0       0     0    0    0  \n",
      "3    0        0       0       0     0    0    0  \n",
      "4    0        0       0       0     0    0    0  \n"
     ]
    }
   ],
   "source": [
    "# Show the first few rows\n",
    "print(final_df.head())"
   ]
  },
  {
   "cell_type": "code",
   "execution_count": 46,
   "metadata": {
    "id": "tSuOfpIiR4LH"
   },
   "outputs": [],
   "source": [
    "from sklearn.feature_extraction.text import TfidfVectorizer\n",
    "\n",
    "# Use only the Combined_Text column for vectorization\n",
    "texts = filtered_questions_cleaned['Combined_Text'].astype(str).tolist()"
   ]
  },
  {
   "cell_type": "code",
   "execution_count": 47,
   "metadata": {
    "id": "ik3L8lwlUchj"
   },
   "outputs": [],
   "source": [
    "# Initialize TF-IDF vectorizer\n",
    "vectorizer = TfidfVectorizer(\n",
    "    max_features=10000,      # Limit features for memory/speed (tune as needed)\n",
    "    ngram_range=(1,2),       # Use unigrams and bigrams\n",
    "    stop_words='english'     # Removes English stopwords\n",
    ")"
   ]
  },
  {
   "cell_type": "code",
   "execution_count": 48,
   "metadata": {
    "id": "OxlnzCD77W4C"
   },
   "outputs": [
    {
     "name": "stderr",
     "output_type": "stream",
     "text": [
      "C:\\Users\\Yasi Kasmi\\anaconda3\\envs\\tf-gpu\\lib\\site-packages\\requests\\__init__.py:86: RequestsDependencyWarning: Unable to find acceptable character detection dependency (chardet or charset_normalizer).\n",
      "  warnings.warn(\n"
     ]
    }
   ],
   "source": [
    "from tensorflow.keras.preprocessing.text import Tokenizer\n",
    "from tensorflow.keras.preprocessing.sequence import pad_sequences\n",
    "import numpy as np"
   ]
  },
  {
   "cell_type": "code",
   "execution_count": 49,
   "metadata": {
    "id": "QJN5yj027pic"
   },
   "outputs": [],
   "source": [
    "# Use the cleaned and combined text\n",
    "texts = filtered_questions_cleaned['Combined_Text'].astype(str).tolist()"
   ]
  },
  {
   "cell_type": "code",
   "execution_count": 50,
   "metadata": {
    "id": "4OXA6haH7rkg"
   },
   "outputs": [],
   "source": [
    "# Set parameters\n",
    "max_words = 10000   # Vocabulary size\n",
    "max_len = 200       # Max sequence length (tune as needed)"
   ]
  },
  {
   "cell_type": "code",
   "execution_count": 51,
   "metadata": {
    "id": "y525MxcH7tF2"
   },
   "outputs": [],
   "source": [
    "# 1. Tokenize\n",
    "tokenizer = Tokenizer(num_words=max_words, oov_token=\"<OOV>\")\n",
    "tokenizer.fit_on_texts(texts)\n",
    "sequences = tokenizer.texts_to_sequences(texts)"
   ]
  },
  {
   "cell_type": "code",
   "execution_count": 52,
   "metadata": {
    "id": "tkYVccgQ7uig"
   },
   "outputs": [],
   "source": [
    "# 2. Pad sequences\n",
    "X = pad_sequences(sequences, maxlen=max_len, padding='post', truncating='post')\n"
   ]
  },
  {
   "cell_type": "code",
   "execution_count": 53,
   "metadata": {
    "id": "kwcimdRa7xfC"
   },
   "outputs": [
    {
     "name": "stdout",
     "output_type": "stream",
     "text": [
      "Input shape: (706336, 200), Target shape: (706336, 10)\n"
     ]
    }
   ],
   "source": [
    "# 3. Prepare targets (multi-label)\n",
    "tag_columns = top_tags  # List of your top 10 tags\n",
    "y = final_df[tag_columns].values.astype(np.float32)\n",
    "\n",
    "print(f\"Input shape: {X.shape}, Target shape: {y.shape}\")"
   ]
  },
  {
   "cell_type": "code",
   "execution_count": 54,
   "metadata": {
    "id": "Edbnejkr7zRC"
   },
   "outputs": [],
   "source": [
    "from sklearn.model_selection import train_test_split\n",
    "\n",
    "X_train, X_val, y_train, y_val = train_test_split(\n",
    "    X, y, test_size=0.2, random_state=42\n",
    ")"
   ]
  },
  {
   "cell_type": "code",
   "execution_count": 55,
   "metadata": {
    "id": "DsXzdNW48Gne"
   },
   "outputs": [],
   "source": [
    "from tensorflow.keras.models import Sequential\n",
    "from tensorflow.keras.layers import Embedding, LSTM, Dense, Dropout"
   ]
  },
  {
   "cell_type": "code",
   "execution_count": 56,
   "metadata": {
    "id": "vdpM3AvSfAJ1"
   },
   "outputs": [
    {
     "name": "stdout",
     "output_type": "stream",
     "text": [
      "[name: \"/device:CPU:0\"\n",
      "device_type: \"CPU\"\n",
      "memory_limit: 268435456\n",
      "locality {\n",
      "}\n",
      "incarnation: 7952562554169243173\n",
      "xla_global_id: -1\n",
      ", name: \"/device:GPU:0\"\n",
      "device_type: \"GPU\"\n",
      "memory_limit: 6272581632\n",
      "locality {\n",
      "  bus_id: 1\n",
      "  links {\n",
      "  }\n",
      "}\n",
      "incarnation: 13972512187635480348\n",
      "physical_device_desc: \"device: 0, name: NVIDIA GeForce RTX 2070, pci bus id: 0000:08:00.0, compute capability: 7.5\"\n",
      "xla_global_id: 416903419\n",
      "]\n"
     ]
    }
   ],
   "source": [
    "from tensorflow.python.client import device_lib\n",
    "print(device_lib.list_local_devices())  # Verify GPU availability\n"
   ]
  },
  {
   "cell_type": "code",
   "execution_count": 57,
   "metadata": {
    "id": "eJZwd8gH8Kon"
   },
   "outputs": [],
   "source": [
    "model = Sequential([\n",
    "    Embedding(input_dim=max_words, output_dim=64, input_length=max_len),\n",
    "    LSTM(64),  # Removed return_sequences=True\n",
    "    Dropout(0.5),\n",
    "    Dense(64, activation='relu'),\n",
    "    Dense(len(tag_columns), activation='sigmoid')  # Multi-label: sigmoid\n",
    "])\n",
    "model.build(input_shape=(None, max_len)) # Explicitly build the model"
   ]
  },
  {
   "cell_type": "code",
   "execution_count": 58,
   "metadata": {
    "id": "3Zk3zATn8M3o"
   },
   "outputs": [
    {
     "name": "stdout",
     "output_type": "stream",
     "text": [
      "Model: \"sequential\"\n",
      "_________________________________________________________________\n",
      " Layer (type)                Output Shape              Param #   \n",
      "=================================================================\n",
      " embedding (Embedding)       (None, 200, 64)           640000    \n",
      "                                                                 \n",
      " lstm (LSTM)                 (None, 64)                33024     \n",
      "                                                                 \n",
      " dropout (Dropout)           (None, 64)                0         \n",
      "                                                                 \n",
      " dense (Dense)               (None, 64)                4160      \n",
      "                                                                 \n",
      " dense_1 (Dense)             (None, 10)                650       \n",
      "                                                                 \n",
      "=================================================================\n",
      "Total params: 677,834\n",
      "Trainable params: 677,834\n",
      "Non-trainable params: 0\n",
      "_________________________________________________________________\n"
     ]
    }
   ],
   "source": [
    "model.compile(\n",
    "    loss='binary_crossentropy',  # Multi-label\n",
    "    optimizer='adam',\n",
    "    metrics=['accuracy']\n",
    ")\n",
    "\n",
    "model.summary()"
   ]
  },
  {
   "cell_type": "code",
   "execution_count": 59,
   "metadata": {
    "id": "zj0fRWJX8ONY"
   },
   "outputs": [
    {
     "name": "stdout",
     "output_type": "stream",
     "text": [
      "Epoch 1/5\n",
      "8830/8830 [==============================] - 130s 14ms/step - loss: 0.3094 - accuracy: 0.3042 - val_loss: 0.2784 - val_accuracy: 0.3697\n",
      "Epoch 2/5\n",
      "8830/8830 [==============================] - 124s 14ms/step - loss: 0.2273 - accuracy: 0.5318 - val_loss: 0.1347 - val_accuracy: 0.7351\n",
      "Epoch 3/5\n",
      "8830/8830 [==============================] - 123s 14ms/step - loss: 0.1106 - accuracy: 0.8050 - val_loss: 0.0900 - val_accuracy: 0.8301\n",
      "Epoch 4/5\n",
      "8830/8830 [==============================] - 123s 14ms/step - loss: 0.0900 - accuracy: 0.8335 - val_loss: 0.0825 - val_accuracy: 0.8368\n",
      "Epoch 5/5\n",
      "8830/8830 [==============================] - 126s 14ms/step - loss: 0.0818 - accuracy: 0.8437 - val_loss: 0.0788 - val_accuracy: 0.8423\n"
     ]
    }
   ],
   "source": [
    "history = model.fit(\n",
    "    X_train, y_train,\n",
    "    epochs=5,                # Start with 5, tune as needed\n",
    "    batch_size=64,\n",
    "    validation_data=(X_val, y_val)\n",
    ")"
   ]
  },
  {
   "cell_type": "code",
   "execution_count": 60,
   "metadata": {
    "id": "yIxEqxPv8P_B"
   },
   "outputs": [
    {
     "name": "stdout",
     "output_type": "stream",
     "text": [
      "4415/4415 [==============================] - 19s 4ms/step\n",
      "              precision    recall  f1-score   support\n",
      "\n",
      "  javascript       0.84      0.77      0.80     24832\n",
      "        java       0.95      0.80      0.87     23106\n",
      "          c#       0.92      0.87      0.89     20226\n",
      "         php       0.94      0.90      0.92     19637\n",
      "     android       0.96      0.94      0.95     18274\n",
      "      jquery       0.89      0.75      0.81     15703\n",
      "      python       0.98      0.93      0.95     12824\n",
      "        html       0.78      0.48      0.60     11966\n",
      "         c++       0.92      0.84      0.88      9483\n",
      "         ios       0.97      0.92      0.94      9466\n",
      "\n",
      "   micro avg       0.92      0.82      0.87    165517\n",
      "   macro avg       0.91      0.82      0.86    165517\n",
      "weighted avg       0.91      0.82      0.86    165517\n",
      " samples avg       0.90      0.87      0.87    165517\n",
      "\n"
     ]
    },
    {
     "name": "stderr",
     "output_type": "stream",
     "text": [
      "C:\\Users\\Yasi Kasmi\\anaconda3\\envs\\tf-gpu\\lib\\site-packages\\sklearn\\metrics\\_classification.py:1706: UndefinedMetricWarning: Precision is ill-defined and being set to 0.0 in samples with no predicted labels. Use `zero_division` parameter to control this behavior.\n",
      "  _warn_prf(average, modifier, f\"{metric.capitalize()} is\", result.shape[0])\n"
     ]
    }
   ],
   "source": [
    "from sklearn.metrics import classification_report\n",
    "\n",
    "# Predict on validation set\n",
    "y_pred = model.predict(X_val)\n",
    "y_pred_bin = (y_pred > 0.5).astype(int)\n",
    "\n",
    "print(classification_report(y_val, y_pred_bin, target_names=tag_columns))"
   ]
  },
  {
   "cell_type": "code",
   "execution_count": 61,
   "metadata": {
    "id": "2M_TFVGv8SjZ"
   },
   "outputs": [
    {
     "name": "stdout",
     "output_type": "stream",
     "text": [
      "4415/4415 [==============================] - 20s 4ms/step\n"
     ]
    }
   ],
   "source": [
    "# Predict probabilities for each tag\n",
    "y_pred_probs = model.predict(X_val)"
   ]
  },
  {
   "cell_type": "code",
   "execution_count": 62,
   "metadata": {
    "id": "XPNLhj8IAJAr"
   },
   "outputs": [],
   "source": [
    "# Convert probabilities to binary predictions (threshold 0.5)\n",
    "y_pred = (y_pred_probs > 0.5).astype(int)"
   ]
  },
  {
   "cell_type": "code",
   "execution_count": 63,
   "metadata": {
    "id": "2MqvHDCuAKeX"
   },
   "outputs": [],
   "source": [
    "from sklearn.metrics import classification_report, hamming_loss, accuracy_score"
   ]
  },
  {
   "cell_type": "code",
   "execution_count": 64,
   "metadata": {
    "id": "lD0SORW2APBr"
   },
   "outputs": [
    {
     "name": "stdout",
     "output_type": "stream",
     "text": [
      "Classification Report (per tag):\n",
      "              precision    recall  f1-score   support\n",
      "\n",
      "  javascript       0.84      0.77      0.80     24832\n",
      "        java       0.95      0.80      0.87     23106\n",
      "          c#       0.92      0.87      0.89     20226\n",
      "         php       0.94      0.90      0.92     19637\n",
      "     android       0.96      0.94      0.95     18274\n",
      "      jquery       0.89      0.75      0.81     15703\n",
      "      python       0.98      0.93      0.95     12824\n",
      "        html       0.78      0.48      0.60     11966\n",
      "         c++       0.92      0.84      0.88      9483\n",
      "         ios       0.97      0.92      0.94      9466\n",
      "\n",
      "   micro avg       0.92      0.82      0.87    165517\n",
      "   macro avg       0.91      0.82      0.86    165517\n",
      "weighted avg       0.91      0.82      0.86    165517\n",
      " samples avg       0.90      0.87      0.87    165517\n",
      "\n"
     ]
    },
    {
     "name": "stderr",
     "output_type": "stream",
     "text": [
      "C:\\Users\\Yasi Kasmi\\anaconda3\\envs\\tf-gpu\\lib\\site-packages\\sklearn\\metrics\\_classification.py:1706: UndefinedMetricWarning: Precision is ill-defined and being set to 0.0 in samples with no predicted labels. Use `zero_division` parameter to control this behavior.\n",
      "  _warn_prf(average, modifier, f\"{metric.capitalize()} is\", result.shape[0])\n"
     ]
    }
   ],
   "source": [
    "# Print a detailed report per tag\n",
    "print(\"Classification Report (per tag):\")\n",
    "print(classification_report(y_val, y_pred, target_names=tag_columns))"
   ]
  },
  {
   "cell_type": "code",
   "execution_count": 65,
   "metadata": {
    "id": "sdpgtzQeAQqP"
   },
   "outputs": [
    {
     "name": "stdout",
     "output_type": "stream",
     "text": [
      "Hamming Loss: 0.0297\n"
     ]
    }
   ],
   "source": [
    "# Hamming loss: lower is better\n",
    "hamming = hamming_loss(y_val, y_pred)\n",
    "print(f\"Hamming Loss: {hamming:.4f}\")"
   ]
  },
  {
   "cell_type": "code",
   "execution_count": 66,
   "metadata": {
    "id": "LAX2-nSaASKF"
   },
   "outputs": [
    {
     "name": "stdout",
     "output_type": "stream",
     "text": [
      "Subset Accuracy: 0.7814\n"
     ]
    }
   ],
   "source": [
    "# Subset accuracy: all tags must match (usually low for multi-label)\n",
    "subset_acc = accuracy_score(y_val, y_pred)\n",
    "print(f\"Subset Accuracy: {subset_acc:.4f}\")"
   ]
  },
  {
   "cell_type": "code",
   "execution_count": 68,
   "metadata": {
    "id": "9PII3uRTKneZ"
   },
   "outputs": [],
   "source": [
    "# Save the trained model (HDF5 or TensorFlow SavedModel format)\n",
    "model.save('stack_overflow_lstm_model.h5')  # HDF5 format\n",
    "# Or for SavedModel format (recommended for TensorFlow 2.x)\n",
    "model.save('stack_overflow_lstm_model.keras')"
   ]
  },
  {
   "cell_type": "code",
   "execution_count": 69,
   "metadata": {
    "id": "TTEBxSJESWpx"
   },
   "outputs": [],
   "source": [
    "import pickle\n",
    "\n",
    "# Save the tokenizer object\n",
    "with open('tokenizer.pkl', 'wb') as f:\n",
    "    pickle.dump(tokenizer, f)\n"
   ]
  },
  {
   "cell_type": "code",
   "execution_count": 70,
   "metadata": {
    "id": "Tlyjem7gSYbj"
   },
   "outputs": [],
   "source": [
    "with open('mlb.pkl', 'wb') as f:\n",
    "    pickle.dump(mlb, f)\n"
   ]
  },
  {
   "cell_type": "code",
   "execution_count": null,
   "metadata": {
    "id": "tzSZWX7ySaZR"
   },
   "outputs": [],
   "source": []
  }
 ],
 "metadata": {
  "accelerator": "GPU",
  "colab": {
   "gpuType": "T4",
   "provenance": []
  },
  "kernelspec": {
   "display_name": "Python 3 (ipykernel)",
   "language": "python",
   "name": "python3"
  },
  "language_info": {
   "codemirror_mode": {
    "name": "ipython",
    "version": 3
   },
   "file_extension": ".py",
   "mimetype": "text/x-python",
   "name": "python",
   "nbconvert_exporter": "python",
   "pygments_lexer": "ipython3",
   "version": "3.10.18"
  }
 },
 "nbformat": 4,
 "nbformat_minor": 4
}
